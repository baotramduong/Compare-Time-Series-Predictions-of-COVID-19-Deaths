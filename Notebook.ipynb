{
 "cells": [
  {
   "cell_type": "markdown",
   "metadata": {},
   "source": [
    "# Comparing time series predictions of COVID-19 deaths"
   ]
  },
  {
   "cell_type": "markdown",
   "metadata": {},
   "source": [
    "\n",
    "![Comparison](Comparison.png)"
   ]
  },
  {
   "cell_type": "code",
   "execution_count": 1,
   "metadata": {},
   "outputs": [
    {
     "name": "stderr",
     "output_type": "stream",
     "text": [
      "Matplotlib created a temporary config/cache directory at /home/rhyme/.config/matplotlib because the default path (/tmp/matplotlib-tub0k8xd) is not a writable directory; it is highly recommended to set the MPLCONFIGDIR environment variable to a writable directory, in particular to speed up the import of Matplotlib and to better support multiprocessing.\n",
      "Importing plotly failed. Interactive plots will not work.\n"
     ]
    }
   ],
   "source": [
    "import pmdarima as pm\n",
    "from statsmodels.tsa.seasonal import seasonal_decompose\n",
    "from sklearn.model_selection import TimeSeriesSplit\n",
    "import pandas as pd\n",
    "import numpy as np\n",
    "import datetime\n",
    "import requests\n",
    "import warnings\n",
    "\n",
    "import matplotlib.pyplot as plt\n",
    "import matplotlib\n",
    "import matplotlib.dates as mdates\n",
    "\n",
    "from xgboost import XGBRegressor\n",
    "from sklearn.ensemble import RandomForestRegressor\n",
    "from sklearn.metrics import mean_squared_error, mean_absolute_error\n",
    "from sklearn.preprocessing import OrdinalEncoder\n",
    "from sklearn.svm import SVR\n",
    "from sklearn.model_selection import train_test_split\n",
    "from statsmodels.tsa.statespace.sarimax import SARIMAX\n",
    "from statsmodels.tsa.arima_model import ARIMA\n",
    "from sklearn.preprocessing import StandardScaler\n",
    "from fbprophet import Prophet\n",
    "from fbprophet.plot import plot_plotly, add_changepoints_to_plot\n",
    "from keras.models import Sequential\n",
    "from keras.layers import Dense\n",
    "\n",
    "from keras.optimizers import Adam\n",
    "\n",
    "warnings.filterwarnings('ignore')\n"
   ]
  },
  {
   "cell_type": "markdown",
   "metadata": {},
   "source": [
    "# Load Data"
   ]
  },
  {
   "cell_type": "code",
   "execution_count": 2,
   "metadata": {},
   "outputs": [
    {
     "data": {
      "text/html": [
       "<div>\n",
       "<style scoped>\n",
       "    .dataframe tbody tr th:only-of-type {\n",
       "        vertical-align: middle;\n",
       "    }\n",
       "\n",
       "    .dataframe tbody tr th {\n",
       "        vertical-align: top;\n",
       "    }\n",
       "\n",
       "    .dataframe thead th {\n",
       "        text-align: right;\n",
       "    }\n",
       "</style>\n",
       "<table border=\"1\" class=\"dataframe\">\n",
       "  <thead>\n",
       "    <tr style=\"text-align: right;\">\n",
       "      <th></th>\n",
       "      <th>Province/State</th>\n",
       "      <th>Country/Region</th>\n",
       "      <th>Lat</th>\n",
       "      <th>Long</th>\n",
       "      <th>1/22/20</th>\n",
       "      <th>1/23/20</th>\n",
       "      <th>1/24/20</th>\n",
       "      <th>1/25/20</th>\n",
       "      <th>1/26/20</th>\n",
       "      <th>1/27/20</th>\n",
       "      <th>...</th>\n",
       "      <th>8/7/20</th>\n",
       "      <th>8/8/20</th>\n",
       "      <th>8/9/20</th>\n",
       "      <th>8/10/20</th>\n",
       "      <th>8/11/20</th>\n",
       "      <th>8/12/20</th>\n",
       "      <th>8/13/20</th>\n",
       "      <th>8/14/20</th>\n",
       "      <th>8/15/20</th>\n",
       "      <th>8/16/20</th>\n",
       "    </tr>\n",
       "  </thead>\n",
       "  <tbody>\n",
       "    <tr>\n",
       "      <th>0</th>\n",
       "      <td>NaN</td>\n",
       "      <td>Afghanistan</td>\n",
       "      <td>33.93911</td>\n",
       "      <td>67.709953</td>\n",
       "      <td>0</td>\n",
       "      <td>0</td>\n",
       "      <td>0</td>\n",
       "      <td>0</td>\n",
       "      <td>0</td>\n",
       "      <td>0</td>\n",
       "      <td>...</td>\n",
       "      <td>1307</td>\n",
       "      <td>1312</td>\n",
       "      <td>1312</td>\n",
       "      <td>1328</td>\n",
       "      <td>1344</td>\n",
       "      <td>1354</td>\n",
       "      <td>1363</td>\n",
       "      <td>1363</td>\n",
       "      <td>1370</td>\n",
       "      <td>1375</td>\n",
       "    </tr>\n",
       "    <tr>\n",
       "      <th>1</th>\n",
       "      <td>NaN</td>\n",
       "      <td>Albania</td>\n",
       "      <td>41.15330</td>\n",
       "      <td>20.168300</td>\n",
       "      <td>0</td>\n",
       "      <td>0</td>\n",
       "      <td>0</td>\n",
       "      <td>0</td>\n",
       "      <td>0</td>\n",
       "      <td>0</td>\n",
       "      <td>...</td>\n",
       "      <td>189</td>\n",
       "      <td>193</td>\n",
       "      <td>199</td>\n",
       "      <td>200</td>\n",
       "      <td>205</td>\n",
       "      <td>208</td>\n",
       "      <td>213</td>\n",
       "      <td>219</td>\n",
       "      <td>225</td>\n",
       "      <td>228</td>\n",
       "    </tr>\n",
       "    <tr>\n",
       "      <th>2</th>\n",
       "      <td>NaN</td>\n",
       "      <td>Algeria</td>\n",
       "      <td>28.03390</td>\n",
       "      <td>1.659600</td>\n",
       "      <td>0</td>\n",
       "      <td>0</td>\n",
       "      <td>0</td>\n",
       "      <td>0</td>\n",
       "      <td>0</td>\n",
       "      <td>0</td>\n",
       "      <td>...</td>\n",
       "      <td>1282</td>\n",
       "      <td>1293</td>\n",
       "      <td>1302</td>\n",
       "      <td>1312</td>\n",
       "      <td>1322</td>\n",
       "      <td>1333</td>\n",
       "      <td>1341</td>\n",
       "      <td>1351</td>\n",
       "      <td>1360</td>\n",
       "      <td>1370</td>\n",
       "    </tr>\n",
       "    <tr>\n",
       "      <th>3</th>\n",
       "      <td>NaN</td>\n",
       "      <td>Andorra</td>\n",
       "      <td>42.50630</td>\n",
       "      <td>1.521800</td>\n",
       "      <td>0</td>\n",
       "      <td>0</td>\n",
       "      <td>0</td>\n",
       "      <td>0</td>\n",
       "      <td>0</td>\n",
       "      <td>0</td>\n",
       "      <td>...</td>\n",
       "      <td>52</td>\n",
       "      <td>52</td>\n",
       "      <td>52</td>\n",
       "      <td>52</td>\n",
       "      <td>52</td>\n",
       "      <td>53</td>\n",
       "      <td>53</td>\n",
       "      <td>53</td>\n",
       "      <td>53</td>\n",
       "      <td>53</td>\n",
       "    </tr>\n",
       "    <tr>\n",
       "      <th>4</th>\n",
       "      <td>NaN</td>\n",
       "      <td>Angola</td>\n",
       "      <td>-11.20270</td>\n",
       "      <td>17.873900</td>\n",
       "      <td>0</td>\n",
       "      <td>0</td>\n",
       "      <td>0</td>\n",
       "      <td>0</td>\n",
       "      <td>0</td>\n",
       "      <td>0</td>\n",
       "      <td>...</td>\n",
       "      <td>67</td>\n",
       "      <td>70</td>\n",
       "      <td>75</td>\n",
       "      <td>78</td>\n",
       "      <td>80</td>\n",
       "      <td>80</td>\n",
       "      <td>80</td>\n",
       "      <td>86</td>\n",
       "      <td>86</td>\n",
       "      <td>88</td>\n",
       "    </tr>\n",
       "  </tbody>\n",
       "</table>\n",
       "<p>5 rows × 212 columns</p>\n",
       "</div>"
      ],
      "text/plain": [
       "  Province/State Country/Region       Lat       Long  1/22/20  1/23/20  \\\n",
       "0            NaN    Afghanistan  33.93911  67.709953        0        0   \n",
       "1            NaN        Albania  41.15330  20.168300        0        0   \n",
       "2            NaN        Algeria  28.03390   1.659600        0        0   \n",
       "3            NaN        Andorra  42.50630   1.521800        0        0   \n",
       "4            NaN         Angola -11.20270  17.873900        0        0   \n",
       "\n",
       "   1/24/20  1/25/20  1/26/20  1/27/20  ...  8/7/20  8/8/20  8/9/20  8/10/20  \\\n",
       "0        0        0        0        0  ...    1307    1312    1312     1328   \n",
       "1        0        0        0        0  ...     189     193     199      200   \n",
       "2        0        0        0        0  ...    1282    1293    1302     1312   \n",
       "3        0        0        0        0  ...      52      52      52       52   \n",
       "4        0        0        0        0  ...      67      70      75       78   \n",
       "\n",
       "   8/11/20  8/12/20  8/13/20  8/14/20  8/15/20  8/16/20  \n",
       "0     1344     1354     1363     1363     1370     1375  \n",
       "1      205      208      213      219      225      228  \n",
       "2     1322     1333     1341     1351     1360     1370  \n",
       "3       52       53       53       53       53       53  \n",
       "4       80       80       80       86       86       88  \n",
       "\n",
       "[5 rows x 212 columns]"
      ]
     },
     "execution_count": 2,
     "metadata": {},
     "output_type": "execute_result"
    }
   ],
   "source": [
    "#read data\n",
    "deaths_df = pd.read_csv('time_series_covid19_deaths_global.csv')\n",
    "\n",
    "#preview\n",
    "deaths_df.head()"
   ]
  },
  {
   "cell_type": "markdown",
   "metadata": {},
   "source": [
    "First, get the data for the daily deaths in all countries in the report"
   ]
  },
  {
   "cell_type": "code",
   "execution_count": 3,
   "metadata": {},
   "outputs": [
    {
     "data": {
      "text/html": [
       "<div>\n",
       "<style scoped>\n",
       "    .dataframe tbody tr th:only-of-type {\n",
       "        vertical-align: middle;\n",
       "    }\n",
       "\n",
       "    .dataframe tbody tr th {\n",
       "        vertical-align: top;\n",
       "    }\n",
       "\n",
       "    .dataframe thead th {\n",
       "        text-align: right;\n",
       "    }\n",
       "</style>\n",
       "<table border=\"1\" class=\"dataframe\">\n",
       "  <thead>\n",
       "    <tr style=\"text-align: right;\">\n",
       "      <th></th>\n",
       "      <th>1/22/20</th>\n",
       "      <th>1/23/20</th>\n",
       "      <th>1/24/20</th>\n",
       "      <th>1/25/20</th>\n",
       "      <th>1/26/20</th>\n",
       "      <th>1/27/20</th>\n",
       "      <th>1/28/20</th>\n",
       "      <th>1/29/20</th>\n",
       "      <th>1/30/20</th>\n",
       "      <th>1/31/20</th>\n",
       "      <th>...</th>\n",
       "      <th>8/7/20</th>\n",
       "      <th>8/8/20</th>\n",
       "      <th>8/9/20</th>\n",
       "      <th>8/10/20</th>\n",
       "      <th>8/11/20</th>\n",
       "      <th>8/12/20</th>\n",
       "      <th>8/13/20</th>\n",
       "      <th>8/14/20</th>\n",
       "      <th>8/15/20</th>\n",
       "      <th>8/16/20</th>\n",
       "    </tr>\n",
       "  </thead>\n",
       "  <tbody>\n",
       "    <tr>\n",
       "      <th>0</th>\n",
       "      <td>0</td>\n",
       "      <td>0</td>\n",
       "      <td>0</td>\n",
       "      <td>0</td>\n",
       "      <td>0</td>\n",
       "      <td>0</td>\n",
       "      <td>0</td>\n",
       "      <td>0</td>\n",
       "      <td>0</td>\n",
       "      <td>0</td>\n",
       "      <td>...</td>\n",
       "      <td>1307</td>\n",
       "      <td>1312</td>\n",
       "      <td>1312</td>\n",
       "      <td>1328</td>\n",
       "      <td>1344</td>\n",
       "      <td>1354</td>\n",
       "      <td>1363</td>\n",
       "      <td>1363</td>\n",
       "      <td>1370</td>\n",
       "      <td>1375</td>\n",
       "    </tr>\n",
       "    <tr>\n",
       "      <th>1</th>\n",
       "      <td>0</td>\n",
       "      <td>0</td>\n",
       "      <td>0</td>\n",
       "      <td>0</td>\n",
       "      <td>0</td>\n",
       "      <td>0</td>\n",
       "      <td>0</td>\n",
       "      <td>0</td>\n",
       "      <td>0</td>\n",
       "      <td>0</td>\n",
       "      <td>...</td>\n",
       "      <td>189</td>\n",
       "      <td>193</td>\n",
       "      <td>199</td>\n",
       "      <td>200</td>\n",
       "      <td>205</td>\n",
       "      <td>208</td>\n",
       "      <td>213</td>\n",
       "      <td>219</td>\n",
       "      <td>225</td>\n",
       "      <td>228</td>\n",
       "    </tr>\n",
       "    <tr>\n",
       "      <th>2</th>\n",
       "      <td>0</td>\n",
       "      <td>0</td>\n",
       "      <td>0</td>\n",
       "      <td>0</td>\n",
       "      <td>0</td>\n",
       "      <td>0</td>\n",
       "      <td>0</td>\n",
       "      <td>0</td>\n",
       "      <td>0</td>\n",
       "      <td>0</td>\n",
       "      <td>...</td>\n",
       "      <td>1282</td>\n",
       "      <td>1293</td>\n",
       "      <td>1302</td>\n",
       "      <td>1312</td>\n",
       "      <td>1322</td>\n",
       "      <td>1333</td>\n",
       "      <td>1341</td>\n",
       "      <td>1351</td>\n",
       "      <td>1360</td>\n",
       "      <td>1370</td>\n",
       "    </tr>\n",
       "    <tr>\n",
       "      <th>3</th>\n",
       "      <td>0</td>\n",
       "      <td>0</td>\n",
       "      <td>0</td>\n",
       "      <td>0</td>\n",
       "      <td>0</td>\n",
       "      <td>0</td>\n",
       "      <td>0</td>\n",
       "      <td>0</td>\n",
       "      <td>0</td>\n",
       "      <td>0</td>\n",
       "      <td>...</td>\n",
       "      <td>52</td>\n",
       "      <td>52</td>\n",
       "      <td>52</td>\n",
       "      <td>52</td>\n",
       "      <td>52</td>\n",
       "      <td>53</td>\n",
       "      <td>53</td>\n",
       "      <td>53</td>\n",
       "      <td>53</td>\n",
       "      <td>53</td>\n",
       "    </tr>\n",
       "    <tr>\n",
       "      <th>4</th>\n",
       "      <td>0</td>\n",
       "      <td>0</td>\n",
       "      <td>0</td>\n",
       "      <td>0</td>\n",
       "      <td>0</td>\n",
       "      <td>0</td>\n",
       "      <td>0</td>\n",
       "      <td>0</td>\n",
       "      <td>0</td>\n",
       "      <td>0</td>\n",
       "      <td>...</td>\n",
       "      <td>67</td>\n",
       "      <td>70</td>\n",
       "      <td>75</td>\n",
       "      <td>78</td>\n",
       "      <td>80</td>\n",
       "      <td>80</td>\n",
       "      <td>80</td>\n",
       "      <td>86</td>\n",
       "      <td>86</td>\n",
       "      <td>88</td>\n",
       "    </tr>\n",
       "  </tbody>\n",
       "</table>\n",
       "<p>5 rows × 208 columns</p>\n",
       "</div>"
      ],
      "text/plain": [
       "   1/22/20  1/23/20  1/24/20  1/25/20  1/26/20  1/27/20  1/28/20  1/29/20  \\\n",
       "0        0        0        0        0        0        0        0        0   \n",
       "1        0        0        0        0        0        0        0        0   \n",
       "2        0        0        0        0        0        0        0        0   \n",
       "3        0        0        0        0        0        0        0        0   \n",
       "4        0        0        0        0        0        0        0        0   \n",
       "\n",
       "   1/30/20  1/31/20  ...  8/7/20  8/8/20  8/9/20  8/10/20  8/11/20  8/12/20  \\\n",
       "0        0        0  ...    1307    1312    1312     1328     1344     1354   \n",
       "1        0        0  ...     189     193     199      200      205      208   \n",
       "2        0        0  ...    1282    1293    1302     1312     1322     1333   \n",
       "3        0        0  ...      52      52      52       52       52       53   \n",
       "4        0        0  ...      67      70      75       78       80       80   \n",
       "\n",
       "   8/13/20  8/14/20  8/15/20  8/16/20  \n",
       "0     1363     1363     1370     1375  \n",
       "1      213      219      225      228  \n",
       "2     1341     1351     1360     1370  \n",
       "3       53       53       53       53  \n",
       "4       80       86       86       88  \n",
       "\n",
       "[5 rows x 208 columns]"
      ]
     },
     "execution_count": 3,
     "metadata": {},
     "output_type": "execute_result"
    }
   ],
   "source": [
    "#data for the daily deaths in all countries\n",
    "d = deaths_df.loc[:, '1/22/20':]\n",
    "\n",
    "#preview\n",
    "d.head()"
   ]
  },
  {
   "cell_type": "markdown",
   "metadata": {},
   "source": [
    "Transpose the data frame"
   ]
  },
  {
   "cell_type": "code",
   "execution_count": 4,
   "metadata": {},
   "outputs": [
    {
     "data": {
      "text/html": [
       "<div>\n",
       "<style scoped>\n",
       "    .dataframe tbody tr th:only-of-type {\n",
       "        vertical-align: middle;\n",
       "    }\n",
       "\n",
       "    .dataframe tbody tr th {\n",
       "        vertical-align: top;\n",
       "    }\n",
       "\n",
       "    .dataframe thead th {\n",
       "        text-align: right;\n",
       "    }\n",
       "</style>\n",
       "<table border=\"1\" class=\"dataframe\">\n",
       "  <thead>\n",
       "    <tr style=\"text-align: right;\">\n",
       "      <th></th>\n",
       "      <th>0</th>\n",
       "      <th>1</th>\n",
       "      <th>2</th>\n",
       "      <th>3</th>\n",
       "      <th>4</th>\n",
       "      <th>5</th>\n",
       "      <th>6</th>\n",
       "      <th>7</th>\n",
       "      <th>8</th>\n",
       "      <th>9</th>\n",
       "      <th>...</th>\n",
       "      <th>256</th>\n",
       "      <th>257</th>\n",
       "      <th>258</th>\n",
       "      <th>259</th>\n",
       "      <th>260</th>\n",
       "      <th>261</th>\n",
       "      <th>262</th>\n",
       "      <th>263</th>\n",
       "      <th>264</th>\n",
       "      <th>265</th>\n",
       "    </tr>\n",
       "  </thead>\n",
       "  <tbody>\n",
       "    <tr>\n",
       "      <th>1/22/20</th>\n",
       "      <td>0</td>\n",
       "      <td>0</td>\n",
       "      <td>0</td>\n",
       "      <td>0</td>\n",
       "      <td>0</td>\n",
       "      <td>0</td>\n",
       "      <td>0</td>\n",
       "      <td>0</td>\n",
       "      <td>0</td>\n",
       "      <td>0</td>\n",
       "      <td>...</td>\n",
       "      <td>0</td>\n",
       "      <td>0</td>\n",
       "      <td>0</td>\n",
       "      <td>0</td>\n",
       "      <td>0</td>\n",
       "      <td>0</td>\n",
       "      <td>0</td>\n",
       "      <td>0</td>\n",
       "      <td>0</td>\n",
       "      <td>0</td>\n",
       "    </tr>\n",
       "    <tr>\n",
       "      <th>1/23/20</th>\n",
       "      <td>0</td>\n",
       "      <td>0</td>\n",
       "      <td>0</td>\n",
       "      <td>0</td>\n",
       "      <td>0</td>\n",
       "      <td>0</td>\n",
       "      <td>0</td>\n",
       "      <td>0</td>\n",
       "      <td>0</td>\n",
       "      <td>0</td>\n",
       "      <td>...</td>\n",
       "      <td>0</td>\n",
       "      <td>0</td>\n",
       "      <td>0</td>\n",
       "      <td>0</td>\n",
       "      <td>0</td>\n",
       "      <td>0</td>\n",
       "      <td>0</td>\n",
       "      <td>0</td>\n",
       "      <td>0</td>\n",
       "      <td>0</td>\n",
       "    </tr>\n",
       "    <tr>\n",
       "      <th>1/24/20</th>\n",
       "      <td>0</td>\n",
       "      <td>0</td>\n",
       "      <td>0</td>\n",
       "      <td>0</td>\n",
       "      <td>0</td>\n",
       "      <td>0</td>\n",
       "      <td>0</td>\n",
       "      <td>0</td>\n",
       "      <td>0</td>\n",
       "      <td>0</td>\n",
       "      <td>...</td>\n",
       "      <td>0</td>\n",
       "      <td>0</td>\n",
       "      <td>0</td>\n",
       "      <td>0</td>\n",
       "      <td>0</td>\n",
       "      <td>0</td>\n",
       "      <td>0</td>\n",
       "      <td>0</td>\n",
       "      <td>0</td>\n",
       "      <td>0</td>\n",
       "    </tr>\n",
       "    <tr>\n",
       "      <th>1/25/20</th>\n",
       "      <td>0</td>\n",
       "      <td>0</td>\n",
       "      <td>0</td>\n",
       "      <td>0</td>\n",
       "      <td>0</td>\n",
       "      <td>0</td>\n",
       "      <td>0</td>\n",
       "      <td>0</td>\n",
       "      <td>0</td>\n",
       "      <td>0</td>\n",
       "      <td>...</td>\n",
       "      <td>0</td>\n",
       "      <td>0</td>\n",
       "      <td>0</td>\n",
       "      <td>0</td>\n",
       "      <td>0</td>\n",
       "      <td>0</td>\n",
       "      <td>0</td>\n",
       "      <td>0</td>\n",
       "      <td>0</td>\n",
       "      <td>0</td>\n",
       "    </tr>\n",
       "    <tr>\n",
       "      <th>1/26/20</th>\n",
       "      <td>0</td>\n",
       "      <td>0</td>\n",
       "      <td>0</td>\n",
       "      <td>0</td>\n",
       "      <td>0</td>\n",
       "      <td>0</td>\n",
       "      <td>0</td>\n",
       "      <td>0</td>\n",
       "      <td>0</td>\n",
       "      <td>0</td>\n",
       "      <td>...</td>\n",
       "      <td>0</td>\n",
       "      <td>0</td>\n",
       "      <td>0</td>\n",
       "      <td>0</td>\n",
       "      <td>0</td>\n",
       "      <td>0</td>\n",
       "      <td>0</td>\n",
       "      <td>0</td>\n",
       "      <td>0</td>\n",
       "      <td>0</td>\n",
       "    </tr>\n",
       "  </tbody>\n",
       "</table>\n",
       "<p>5 rows × 266 columns</p>\n",
       "</div>"
      ],
      "text/plain": [
       "         0    1    2    3    4    5    6    7    8    9    ...  256  257  258  \\\n",
       "1/22/20    0    0    0    0    0    0    0    0    0    0  ...    0    0    0   \n",
       "1/23/20    0    0    0    0    0    0    0    0    0    0  ...    0    0    0   \n",
       "1/24/20    0    0    0    0    0    0    0    0    0    0  ...    0    0    0   \n",
       "1/25/20    0    0    0    0    0    0    0    0    0    0  ...    0    0    0   \n",
       "1/26/20    0    0    0    0    0    0    0    0    0    0  ...    0    0    0   \n",
       "\n",
       "         259  260  261  262  263  264  265  \n",
       "1/22/20    0    0    0    0    0    0    0  \n",
       "1/23/20    0    0    0    0    0    0    0  \n",
       "1/24/20    0    0    0    0    0    0    0  \n",
       "1/25/20    0    0    0    0    0    0    0  \n",
       "1/26/20    0    0    0    0    0    0    0  \n",
       "\n",
       "[5 rows x 266 columns]"
      ]
     },
     "execution_count": 4,
     "metadata": {},
     "output_type": "execute_result"
    }
   ],
   "source": [
    "#transpose\n",
    "d = d.transpose()\n",
    "d.head()"
   ]
  },
  {
   "cell_type": "markdown",
   "metadata": {},
   "source": [
    "Then sum row-wise"
   ]
  },
  {
   "cell_type": "code",
   "execution_count": 5,
   "metadata": {},
   "outputs": [
    {
     "data": {
      "text/plain": [
       "1/22/20    17\n",
       "1/23/20    18\n",
       "1/24/20    26\n",
       "1/25/20    42\n",
       "1/26/20    56\n",
       "dtype: int64"
      ]
     },
     "execution_count": 5,
     "metadata": {},
     "output_type": "execute_result"
    }
   ],
   "source": [
    "#sum row-wise\n",
    "d = d.sum(axis=1)\n",
    "d.head()"
   ]
  },
  {
   "cell_type": "markdown",
   "metadata": {},
   "source": [
    "We only need the numeric values here, so we convert `d` to a list"
   ]
  },
  {
   "cell_type": "code",
   "execution_count": 6,
   "metadata": {},
   "outputs": [
    {
     "data": {
      "text/plain": [
       "[17,\n",
       " 18,\n",
       " 26,\n",
       " 42,\n",
       " 56,\n",
       " 82,\n",
       " 131,\n",
       " 133,\n",
       " 171,\n",
       " 213,\n",
       " 259,\n",
       " 362,\n",
       " 426,\n",
       " 492,\n",
       " 564,\n",
       " 634,\n",
       " 719,\n",
       " 806,\n",
       " 906,\n",
       " 1013]"
      ]
     },
     "execution_count": 6,
     "metadata": {},
     "output_type": "execute_result"
    }
   ],
   "source": [
    "#convert d to a list\n",
    "d = d.to_list()\n",
    "d[:20]"
   ]
  },
  {
   "cell_type": "markdown",
   "metadata": {},
   "source": [
    "Create a new data frame with two columns, which will be our dataset:"
   ]
  },
  {
   "cell_type": "code",
   "execution_count": 7,
   "metadata": {},
   "outputs": [
    {
     "data": {
      "text/html": [
       "<div>\n",
       "<style scoped>\n",
       "    .dataframe tbody tr th:only-of-type {\n",
       "        vertical-align: middle;\n",
       "    }\n",
       "\n",
       "    .dataframe tbody tr th {\n",
       "        vertical-align: top;\n",
       "    }\n",
       "\n",
       "    .dataframe thead th {\n",
       "        text-align: right;\n",
       "    }\n",
       "</style>\n",
       "<table border=\"1\" class=\"dataframe\">\n",
       "  <thead>\n",
       "    <tr style=\"text-align: right;\">\n",
       "      <th></th>\n",
       "      <th>ds</th>\n",
       "      <th>y</th>\n",
       "    </tr>\n",
       "  </thead>\n",
       "  <tbody>\n",
       "  </tbody>\n",
       "</table>\n",
       "</div>"
      ],
      "text/plain": [
       "Empty DataFrame\n",
       "Columns: [ds, y]\n",
       "Index: []"
      ]
     },
     "execution_count": 7,
     "metadata": {},
     "output_type": "execute_result"
    }
   ],
   "source": [
    "#create new dataframe\n",
    "dataset = pd.DataFrame(columns=['ds', 'y'])\n",
    "dataset.head()"
   ]
  },
  {
   "cell_type": "markdown",
   "metadata": {},
   "source": [
    "Get the dates from the columns in `deaths_df` data frame, starting from the fifth column. They will be obtained in string format."
   ]
  },
  {
   "cell_type": "code",
   "execution_count": 8,
   "metadata": {},
   "outputs": [
    {
     "data": {
      "text/plain": [
       "['1/22/20',\n",
       " '1/23/20',\n",
       " '1/24/20',\n",
       " '1/25/20',\n",
       " '1/26/20',\n",
       " '1/27/20',\n",
       " '1/28/20',\n",
       " '1/29/20',\n",
       " '1/30/20',\n",
       " '1/31/20',\n",
       " '2/1/20',\n",
       " '2/2/20',\n",
       " '2/3/20',\n",
       " '2/4/20',\n",
       " '2/5/20',\n",
       " '2/6/20',\n",
       " '2/7/20',\n",
       " '2/8/20',\n",
       " '2/9/20',\n",
       " '2/10/20']"
      ]
     },
     "execution_count": 8,
     "metadata": {},
     "output_type": "execute_result"
    }
   ],
   "source": [
    "#import data\n",
    "dates = list(deaths_df.columns[4:])\n",
    "dates[:20]"
   ]
  },
  {
   "cell_type": "markdown",
   "metadata": {},
   "source": [
    "Convert the string dates into the datetime format, so that we can perform datetime operations on them"
   ]
  },
  {
   "cell_type": "code",
   "execution_count": 9,
   "metadata": {},
   "outputs": [
    {
     "data": {
      "text/plain": [
       "[Timestamp('2020-01-22 00:00:00'),\n",
       " Timestamp('2020-01-23 00:00:00'),\n",
       " Timestamp('2020-01-24 00:00:00'),\n",
       " Timestamp('2020-01-25 00:00:00'),\n",
       " Timestamp('2020-01-26 00:00:00'),\n",
       " Timestamp('2020-01-27 00:00:00'),\n",
       " Timestamp('2020-01-28 00:00:00'),\n",
       " Timestamp('2020-01-29 00:00:00'),\n",
       " Timestamp('2020-01-30 00:00:00'),\n",
       " Timestamp('2020-01-31 00:00:00'),\n",
       " Timestamp('2020-02-01 00:00:00'),\n",
       " Timestamp('2020-02-02 00:00:00'),\n",
       " Timestamp('2020-02-03 00:00:00'),\n",
       " Timestamp('2020-02-04 00:00:00'),\n",
       " Timestamp('2020-02-05 00:00:00'),\n",
       " Timestamp('2020-02-06 00:00:00'),\n",
       " Timestamp('2020-02-07 00:00:00'),\n",
       " Timestamp('2020-02-08 00:00:00'),\n",
       " Timestamp('2020-02-09 00:00:00'),\n",
       " Timestamp('2020-02-10 00:00:00')]"
      ]
     },
     "execution_count": 9,
     "metadata": {},
     "output_type": "execute_result"
    }
   ],
   "source": [
    "#convert to datetime format\n",
    "dates = list(pd.to_datetime(dates))\n",
    "dates[:20]"
   ]
  },
  {
   "cell_type": "markdown",
   "metadata": {},
   "source": [
    "Now, assign the dates and deaths data to the columns in the new dataframe:"
   ]
  },
  {
   "cell_type": "code",
   "execution_count": 10,
   "metadata": {},
   "outputs": [],
   "source": [
    "dataset['ds'] = dates\n",
    "dataset['y'] = d"
   ]
  },
  {
   "cell_type": "markdown",
   "metadata": {},
   "source": [
    "We will need to have only 1 data column, y, with the index being ds"
   ]
  },
  {
   "cell_type": "code",
   "execution_count": 11,
   "metadata": {},
   "outputs": [],
   "source": [
    "dataset = dataset.set_index('ds')"
   ]
  },
  {
   "cell_type": "markdown",
   "metadata": {},
   "source": [
    "Let's plot the daily number of deaths\n"
   ]
  },
  {
   "cell_type": "code",
   "execution_count": 12,
   "metadata": {},
   "outputs": [
    {
     "data": {
      "image/png": "[encoded data removed]",
      "text/plain": [
       "<Figure size 720x432 with 1 Axes>"
      ]
     },
     "metadata": {
      "needs_background": "light"
     },
     "output_type": "display_data"
    }
   ],
   "source": [
    "#plot\n",
    "plt.figure(figsize=(10, 6))\n",
    "plt.plot(dataset)\n",
    "plt.title('Cumulative Daily Death')\n",
    "plt.savefig('Cumulative Daily Death',\n",
    "           bbox_inches='tight',\n",
    "           transparent=False)"
   ]
  },
  {
   "cell_type": "markdown",
   "metadata": {},
   "source": [
    "and let's see how the daily increase looks like. To do this, we will use the `diff` method from the Dataframe object."
   ]
  },
  {
   "cell_type": "code",
   "execution_count": 13,
   "metadata": {},
   "outputs": [
    {
     "data": {
      "image/png": "[encoded data removed]",
      "text/plain": [
       "<Figure size 720x432 with 1 Axes>"
      ]
     },
     "metadata": {
      "needs_background": "light"
     },
     "output_type": "display_data"
    }
   ],
   "source": [
    "#plot\n",
    "plt.figure(figsize=(10, 6))\n",
    "plt.plot(dataset.diff()) #to see daily increase\n",
    "plt.title('Daily Death')\n",
    "plt.savefig('Daily Death',\n",
    "           bbox_inches='tight',\n",
    "           transparent=False)"
   ]
  },
  {
   "cell_type": "markdown",
   "metadata": {},
   "source": [
    "In this project, we are going to analyze the daily reported deaths"
   ]
  },
  {
   "cell_type": "code",
   "execution_count": 14,
   "metadata": {},
   "outputs": [],
   "source": [
    "#convert dataset into diff dataset\n",
    "dataset = dataset.diff() #difference between present and past "
   ]
  },
  {
   "cell_type": "markdown",
   "metadata": {},
   "source": [
    "We need to remove the first data point here, which will be a None value"
   ]
  },
  {
   "cell_type": "code",
   "execution_count": 15,
   "metadata": {},
   "outputs": [],
   "source": [
    "dataset = dataset.loc['2020-01-23':'2020-08-13']"
   ]
  },
  {
   "cell_type": "markdown",
   "metadata": {},
   "source": [
    "# SARIMAX Model - Seasonal AutoRegressive Integrated Moving Average with eXogenous Regressors Model)"
   ]
  },
  {
   "cell_type": "markdown",
   "metadata": {},
   "source": [
    "SARIMAX is one of the time series models in the python statistics library statsmodels."
   ]
  },
  {
   "cell_type": "markdown",
   "metadata": {},
   "source": [
    "But before we apply the model, we will split our dataset into a training and test sets. We will do this by taking all dates prior to 31st of July as training set, on which the model will be optimized, and all dates from 31st July as the test set, on which we will test the accuracy of the predictions that the optimized model will make."
   ]
  },
  {
   "cell_type": "code",
   "execution_count": 16,
   "metadata": {},
   "outputs": [],
   "source": [
    "#set start date\n",
    "start_date = '2020-07-31'\n",
    "\n",
    "#define train and test set\n",
    "train = dataset.loc[dataset.index < pd.to_datetime(start_date)] #index is date\n",
    "test = dataset.loc[dataset.index >= pd.to_datetime(start_date)] #index is date"
   ]
  },
  {
   "cell_type": "markdown",
   "metadata": {},
   "source": [
    "Now let's talk about SARIMAX. There are three hyperparameters that go into the order tuple: p, q and d. Here we've used p=2, q=1 and d=3."
   ]
  },
  {
   "cell_type": "code",
   "execution_count": 17,
   "metadata": {},
   "outputs": [],
   "source": [
    "#create model\n",
    "model = SARIMAX(train, order=(2, 1, 3))"
   ]
  },
  {
   "cell_type": "markdown",
   "metadata": {},
   "source": [
    "Next, we call the fit method to optimize the model."
   ]
  },
  {
   "cell_type": "code",
   "execution_count": 18,
   "metadata": {},
   "outputs": [],
   "source": [
    "#fit\n",
    "results = model.fit(disp=True)"
   ]
  },
  {
   "cell_type": "markdown",
   "metadata": {},
   "source": [
    "Now let's make predictions using the model, and compare those against the values in the test set."
   ]
  },
  {
   "cell_type": "code",
   "execution_count": 19,
   "metadata": {},
   "outputs": [
    {
     "data": {
      "image/png": "[encoded data removed]",
      "text/plain": [
       "<Figure size 720x432 with 1 Axes>"
      ]
     },
     "metadata": {
      "needs_background": "light"
     },
     "output_type": "display_data"
    }
   ],
   "source": [
    "#predict\n",
    "sarimax_prediction = results.predict(start=start_date,\n",
    "                                    end='2020-08-13',\n",
    "                                    dynamic=False)\n",
    "\n",
    "#plot prediction\n",
    "plt.figure(figsize=(10, 6))\n",
    "l1, = plt.plot(dataset, label='Observation')\n",
    "l2, = plt.plot(sarimax_prediction, label='ARIMAX')\n",
    "plt.title('SARIMAX Prediction')\n",
    "plt.legend(handles=[l1, l1])\n",
    "\n",
    "#save\n",
    "plt.savefig('SARIMAX Prediction', bbox_inches='tight', transparent=False)"
   ]
  },
  {
   "cell_type": "markdown",
   "metadata": {},
   "source": [
    "Since that we are interested in comparing between the different time series analysis approaches, we are going to use one of the validation measures: mean absolute error."
   ]
  },
  {
   "cell_type": "code",
   "execution_count": 20,
   "metadata": {},
   "outputs": [
    {
     "name": "stdout",
     "output_type": "stream",
     "text": [
      "SARIMAX MAE: 650.6157483614192\n"
     ]
    }
   ],
   "source": [
    "#get MAE\n",
    "print('SARIMAX MAE:', mean_absolute_error(sarimax_prediction, test))"
   ]
  },
  {
   "cell_type": "markdown",
   "metadata": {},
   "source": [
    "However, in a typical machine learning workflow, we should find the best values of p, q and r that will minimize the error. We can use the auto_arima function in the pmdarima module to do that. This will find the optimal parameter combintation and return the best model.\n"
   ]
  },
  {
   "cell_type": "code",
   "execution_count": 21,
   "metadata": {},
   "outputs": [
    {
     "name": "stdout",
     "output_type": "stream",
     "text": [
      "Performing stepwise search to minimize aic\n",
      " ARIMA(1,1,1)(0,0,0)[0] intercept   : AIC=3111.971, Time=0.69 sec\n",
      " ARIMA(0,1,0)(0,0,0)[0] intercept   : AIC=3132.320, Time=0.02 sec\n",
      " ARIMA(1,1,0)(0,0,0)[0] intercept   : AIC=3133.730, Time=0.04 sec\n",
      " ARIMA(0,1,1)(0,0,0)[0] intercept   : AIC=3133.267, Time=0.08 sec\n",
      " ARIMA(0,1,0)(0,0,0)[0]             : AIC=3130.535, Time=0.02 sec\n",
      " ARIMA(2,1,1)(0,0,0)[0] intercept   : AIC=3099.418, Time=0.99 sec\n",
      " ARIMA(2,1,0)(0,0,0)[0] intercept   : AIC=3128.118, Time=0.05 sec\n",
      " ARIMA(3,1,1)(0,0,0)[0] intercept   : AIC=3089.597, Time=0.92 sec\n",
      " ARIMA(3,1,0)(0,0,0)[0] intercept   : AIC=3116.490, Time=0.08 sec\n",
      " ARIMA(3,1,2)(0,0,0)[0] intercept   : AIC=3043.804, Time=1.04 sec\n",
      " ARIMA(2,1,2)(0,0,0)[0] intercept   : AIC=3040.433, Time=0.98 sec\n",
      " ARIMA(1,1,2)(0,0,0)[0] intercept   : AIC=3106.295, Time=0.60 sec\n",
      " ARIMA(2,1,3)(0,0,0)[0] intercept   : AIC=3025.719, Time=1.19 sec\n",
      " ARIMA(1,1,3)(0,0,0)[0] intercept   : AIC=3105.847, Time=1.01 sec\n",
      " ARIMA(3,1,3)(0,0,0)[0] intercept   : AIC=3032.873, Time=1.34 sec\n",
      " ARIMA(2,1,3)(0,0,0)[0]             : AIC=3024.848, Time=0.91 sec\n",
      " ARIMA(1,1,3)(0,0,0)[0]             : AIC=inf, Time=0.60 sec\n",
      " ARIMA(2,1,2)(0,0,0)[0]             : AIC=inf, Time=0.41 sec\n",
      " ARIMA(3,1,3)(0,0,0)[0]             : AIC=3034.045, Time=1.00 sec\n",
      " ARIMA(1,1,2)(0,0,0)[0]             : AIC=3106.064, Time=0.49 sec\n",
      " ARIMA(3,1,2)(0,0,0)[0]             : AIC=3030.660, Time=0.75 sec\n",
      "\n",
      "Best model:  ARIMA(2,1,3)(0,0,0)[0]          \n",
      "Total fit time: 13.270 seconds\n",
      "                               SARIMAX Results                                \n",
      "==============================================================================\n",
      "Dep. Variable:                      y   No. Observations:                  190\n",
      "Model:               SARIMAX(2, 1, 3)   Log Likelihood               -1506.424\n",
      "Date:                Tue, 24 Aug 2021   AIC                           3024.848\n",
      "Time:                        08:23:46   BIC                           3044.299\n",
      "Sample:                             0   HQIC                          3032.728\n",
      "                                - 190                                         \n",
      "Covariance Type:                  opg                                         \n",
      "==============================================================================\n",
      "                 coef    std err          z      P>|z|      [0.025      0.975]\n",
      "------------------------------------------------------------------------------\n",
      "ar.L1          1.2434      0.017     72.420      0.000       1.210       1.277\n",
      "ar.L2         -0.9796      0.019    -51.206      0.000      -1.017      -0.942\n",
      "ma.L1         -1.7687      0.065    -27.195      0.000      -1.896      -1.641\n",
      "ma.L2          1.4753      0.097     15.266      0.000       1.286       1.665\n",
      "ma.L3         -0.3939      0.064     -6.141      0.000      -0.520      -0.268\n",
      "sigma2      4.964e+05   3.61e+04     13.749      0.000    4.26e+05    5.67e+05\n",
      "===================================================================================\n",
      "Ljung-Box (Q):                      208.46   Jarque-Bera (JB):                95.44\n",
      "Prob(Q):                              0.00   Prob(JB):                         0.00\n",
      "Heteroskedasticity (H):              13.70   Skew:                             0.67\n",
      "Prob(H) (two-sided):                  0.00   Kurtosis:                         6.22\n",
      "===================================================================================\n",
      "\n",
      "Warnings:\n",
      "[1] Covariance matrix calculated using the outer product of gradients (complex-step).\n"
     ]
    }
   ],
   "source": [
    "model = pm.auto_arima(train, start_p=1, start_q=1,\n",
    "                      test='adf',       # use adftest to find optimal 'd'\n",
    "                      max_p=3, max_q=3,  # maximum p and q\n",
    "                      m=1,              # frequency of series\n",
    "                      d=None,           # let model determine 'd'\n",
    "                      seasonal=False,   # No Seasonality\n",
    "                      start_P=0,\n",
    "                      D=0,\n",
    "                      trace=True,\n",
    "                      error_action='ignore',\n",
    "                      suppress_warnings=True,\n",
    "                      stepwise=True)\n",
    "\n",
    "print(model.summary())"
   ]
  },
  {
   "cell_type": "markdown",
   "metadata": {},
   "source": [
    "Note that this gives us the best mode here: \"Best model:  SARIMAX(2,2,3)(0,0,0)[0]\""
   ]
  },
  {
   "cell_type": "markdown",
   "metadata": {},
   "source": [
    "# Facebook's Prophet Model"
   ]
  },
  {
   "cell_type": "markdown",
   "metadata": {},
   "source": [
    "This is the open source time series library released by Facebook. It is also widely used by Facebook in their own time series analysis tasks. Facebook prophet does not require that you specify or search for hyperparameters. The model can act as a black box that does all the required computations on its own. And it works with the same object-fit-predict API.\n",
    "\n",
    "Prophet expects the data frame to have 2 columns, unlike SARIMAX."
   ]
  },
  {
   "cell_type": "code",
   "execution_count": 22,
   "metadata": {},
   "outputs": [],
   "source": [
    "train['ds'] = train.index.values"
   ]
  },
  {
   "cell_type": "markdown",
   "metadata": {},
   "source": [
    "Then we create a new Prophet object and call the `fit()` method"
   ]
  },
  {
   "cell_type": "code",
   "execution_count": 23,
   "metadata": {},
   "outputs": [
    {
     "name": "stderr",
     "output_type": "stream",
     "text": [
      "INFO:fbprophet:Disabling yearly seasonality. Run prophet with yearly_seasonality=True to override this.\n",
      "INFO:fbprophet:Disabling daily seasonality. Run prophet with daily_seasonality=True to override this.\n"
     ]
    },
    {
     "data": {
      "text/plain": [
       "<fbprophet.forecaster.Prophet at 0x7f126464a438>"
      ]
     },
     "execution_count": 23,
     "metadata": {},
     "output_type": "execute_result"
    }
   ],
   "source": [
    "#create object\n",
    "m = Prophet()\n",
    "\n",
    "#fit\n",
    "m.fit(train)"
   ]
  },
  {
   "cell_type": "markdown",
   "metadata": {},
   "source": [
    "Now let's forecast:"
   ]
  },
  {
   "cell_type": "code",
   "execution_count": 24,
   "metadata": {},
   "outputs": [],
   "source": [
    "future = m.make_future_dataframe(periods=dataset.shape[0] - train.shape[0])\n",
    "\n",
    "prophet_prediction = m.predict(future)"
   ]
  },
  {
   "cell_type": "markdown",
   "metadata": {},
   "source": [
    "Now let us calculate the mean absolute error for our predictions."
   ]
  },
  {
   "cell_type": "code",
   "execution_count": 25,
   "metadata": {},
   "outputs": [
    {
     "name": "stdout",
     "output_type": "stream",
     "text": [
      "Prophet MAE: 572.5555342749124\n"
     ]
    }
   ],
   "source": [
    "prophet_prediction = prophet_prediction.set_index('ds')\n",
    "\n",
    "prophet_future = prophet_prediction.yhat.loc[prophet_prediction.index >= start_date]\n",
    "\n",
    "print('Prophet MAE:', mean_absolute_error(prophet_future, test))"
   ]
  },
  {
   "cell_type": "markdown",
   "metadata": {},
   "source": [
    "Next, let's visualize the predictions."
   ]
  },
  {
   "cell_type": "code",
   "execution_count": 26,
   "metadata": {},
   "outputs": [
    {
     "data": {
      "image/png": "[encoded data removed]",
      "text/plain": [
       "<Figure size 720x432 with 1 Axes>"
      ]
     },
     "metadata": {
      "needs_background": "light"
     },
     "output_type": "display_data"
    }
   ],
   "source": [
    "#plot\n",
    "plt.figure(figsize=(10, 6))\n",
    "l1, = plt.plot(dataset, label='Observation')\n",
    "l2, = plt.plot(prophet_future, label='Prophet')\n",
    "plt.title('Prophet Prediction')\n",
    "plt.legend(handles=[l1, l2])\n",
    "\n",
    "#save\n",
    "plt.savefig('Prophet Prediction', bbox_inches='tight', transparent=False)"
   ]
  },
  {
   "cell_type": "markdown",
   "metadata": {},
   "source": [
    "# Preparing the dataset for XGBOOST and NN"
   ]
  },
  {
   "cell_type": "markdown",
   "metadata": {},
   "source": [
    "Unlike the prophet and SAIMAX models, the two models we will train in Task 6, namely XGBOOST and NN, are supervised machine learning models that deal with independent data points, or examples. It assumes that each data point is totally independent from the rest of the data points in the dataset.\n",
    "\n",
    "Here is a method that extracts these features from a given dataframe object."
   ]
  },
  {
   "cell_type": "code",
   "execution_count": 27,
   "metadata": {},
   "outputs": [],
   "source": [
    "#extract features\n",
    "def featurize(t):\n",
    "    \n",
    "    X = pd.DataFrame()\n",
    "    X['day'] = t.index.day\n",
    "    X['month'] = t.index.month\n",
    "    X['quarter'] = t.index.quarter\n",
    "    X['dayofweek'] = t.index.dayofweek\n",
    "    X['dayofyear'] = t.index.dayofyear\n",
    "    X['weekofyear'] = t.index.weekofyear\n",
    "    \n",
    "    y = t.y\n",
    "    return X, y"
   ]
  },
  {
   "cell_type": "code",
   "execution_count": 28,
   "metadata": {},
   "outputs": [
    {
     "data": {
      "text/html": [
       "<div>\n",
       "<style scoped>\n",
       "    .dataframe tbody tr th:only-of-type {\n",
       "        vertical-align: middle;\n",
       "    }\n",
       "\n",
       "    .dataframe tbody tr th {\n",
       "        vertical-align: top;\n",
       "    }\n",
       "\n",
       "    .dataframe thead th {\n",
       "        text-align: right;\n",
       "    }\n",
       "</style>\n",
       "<table border=\"1\" class=\"dataframe\">\n",
       "  <thead>\n",
       "    <tr style=\"text-align: right;\">\n",
       "      <th></th>\n",
       "      <th>day</th>\n",
       "      <th>month</th>\n",
       "      <th>quarter</th>\n",
       "      <th>dayofweek</th>\n",
       "      <th>dayofyear</th>\n",
       "      <th>weekofyear</th>\n",
       "    </tr>\n",
       "  </thead>\n",
       "  <tbody>\n",
       "    <tr>\n",
       "      <th>0</th>\n",
       "      <td>23</td>\n",
       "      <td>1</td>\n",
       "      <td>1</td>\n",
       "      <td>3</td>\n",
       "      <td>23</td>\n",
       "      <td>4</td>\n",
       "    </tr>\n",
       "    <tr>\n",
       "      <th>1</th>\n",
       "      <td>24</td>\n",
       "      <td>1</td>\n",
       "      <td>1</td>\n",
       "      <td>4</td>\n",
       "      <td>24</td>\n",
       "      <td>4</td>\n",
       "    </tr>\n",
       "    <tr>\n",
       "      <th>2</th>\n",
       "      <td>25</td>\n",
       "      <td>1</td>\n",
       "      <td>1</td>\n",
       "      <td>5</td>\n",
       "      <td>25</td>\n",
       "      <td>4</td>\n",
       "    </tr>\n",
       "    <tr>\n",
       "      <th>3</th>\n",
       "      <td>26</td>\n",
       "      <td>1</td>\n",
       "      <td>1</td>\n",
       "      <td>6</td>\n",
       "      <td>26</td>\n",
       "      <td>4</td>\n",
       "    </tr>\n",
       "    <tr>\n",
       "      <th>4</th>\n",
       "      <td>27</td>\n",
       "      <td>1</td>\n",
       "      <td>1</td>\n",
       "      <td>0</td>\n",
       "      <td>27</td>\n",
       "      <td>5</td>\n",
       "    </tr>\n",
       "  </tbody>\n",
       "</table>\n",
       "</div>"
      ],
      "text/plain": [
       "   day  month  quarter  dayofweek  dayofyear  weekofyear\n",
       "0   23      1        1          3         23           4\n",
       "1   24      1        1          4         24           4\n",
       "2   25      1        1          5         25           4\n",
       "3   26      1        1          6         26           4\n",
       "4   27      1        1          0         27           5"
      ]
     },
     "execution_count": 28,
     "metadata": {},
     "output_type": "execute_result"
    }
   ],
   "source": [
    "#preview\n",
    "featurize(dataset)[0].head()"
   ]
  },
  {
   "cell_type": "markdown",
   "metadata": {},
   "source": [
    "# Preprocessing Data"
   ]
  },
  {
   "cell_type": "markdown",
   "metadata": {},
   "source": [
    "In this task we are going to cover two topics in data preparation: splitting the dataset into training and test data, and normalizing the data.\n",
    "\n",
    "You might have already performed a splitting operation of a dataset in machine learning, where one takes a randomly selected portion of the dataset, say 20%, as a test set, while the remaining 80% is the training set. It is randomly selected because the whole dataset is randomly shufflled before the selection. Another popular approach is the k-fold cross validation.\n",
    "\n",
    "However, those two methods won't work with time series data. The reason is: when we train the model on the training set, the purpose is to predict the target values in the future, which corresponds to date values that are outside of the date values in the training set."
   ]
  },
  {
   "cell_type": "code",
   "execution_count": 29,
   "metadata": {},
   "outputs": [],
   "source": [
    "#train test split\n",
    "X_train, y_train = featurize(dataset.loc[dataset.index < pd.to_datetime(start_date)])\n",
    "X_test, y_test = featurize(dataset.loc[dataset.index >= pd.to_datetime(start_date)])"
   ]
  },
  {
   "cell_type": "markdown",
   "metadata": {},
   "source": [
    "Now let's discuss data normalization. We perform data normalization so as to make the range of values of the features, or the columns in the X_train table, as close as possible. For example, we have the features dayofweek and dayofyear. The range of values of dayofweek is from 1 to 7, whereas dayofyear is from 1 to 365. Having such large differences in the ranges of values will either slow down the training of the machine learning model or make it quite difficult. We solve this problem by applying normalization. There are several ways we can normalize the data with. Here I will choose the StandardScaler, which applies the following equation on each of the columns.\n",
    "\n",
    "z = (x - u) / s\n",
    "\n",
    "Here x is the column before scaling, u is thee mean and s is the standard deviation. So basically, we subtract the mean of each column from itself, then divide by the standard deviation of that column. To apply StandardScaler, we first fit the scaler object to the dataset:\n"
   ]
  },
  {
   "cell_type": "code",
   "execution_count": 30,
   "metadata": {},
   "outputs": [
    {
     "data": {
      "text/plain": [
       "StandardScaler()"
      ]
     },
     "execution_count": 30,
     "metadata": {},
     "output_type": "execute_result"
    }
   ],
   "source": [
    "#initialize\n",
    "scaler = StandardScaler()\n",
    "\n",
    "#fit\n",
    "scaler.fit(X_train)"
   ]
  },
  {
   "cell_type": "markdown",
   "metadata": {},
   "source": [
    "Apply the scaling to both the training and test sets, as follows."
   ]
  },
  {
   "cell_type": "code",
   "execution_count": 31,
   "metadata": {},
   "outputs": [],
   "source": [
    "#transform\n",
    "scaled_train = scaler.transform(X_train)\n",
    "scaled_test = scaler.transform(X_test)"
   ]
  },
  {
   "cell_type": "markdown",
   "metadata": {},
   "source": [
    "# Train the XGBOOST and NN models"
   ]
  },
  {
   "cell_type": "markdown",
   "metadata": {},
   "source": [
    "First, create the XGBRegressor object which will represent the XGBOOST regression model."
   ]
  },
  {
   "cell_type": "code",
   "execution_count": 32,
   "metadata": {},
   "outputs": [],
   "source": [
    "#create model\n",
    "xgboost_model = XGBRegressor(n_estimators=7)"
   ]
  },
  {
   "cell_type": "markdown",
   "metadata": {},
   "source": [
    "Next, train the XGBOOST regression model using the fit method, and perform prediction using the predict method."
   ]
  },
  {
   "cell_type": "code",
   "execution_count": 33,
   "metadata": {},
   "outputs": [
    {
     "name": "stdout",
     "output_type": "stream",
     "text": [
      "[0]\tvalidation_0-rmse:3121.15405\tvalidation_1-rmse:4338.40674\n",
      "[1]\tvalidation_0-rmse:2264.95044\tvalidation_1-rmse:3135.70386\n",
      "[2]\tvalidation_0-rmse:1665.83826\tvalidation_1-rmse:2322.55371\n",
      "[3]\tvalidation_0-rmse:1241.47046\tvalidation_1-rmse:1676.83875\n",
      "[4]\tvalidation_0-rmse:942.85718\tvalidation_1-rmse:1199.80676\n",
      "[5]\tvalidation_0-rmse:732.31842\tvalidation_1-rmse:765.99835\n",
      "[6]\tvalidation_0-rmse:582.53577\tvalidation_1-rmse:501.29828\n"
     ]
    }
   ],
   "source": [
    "#fit\n",
    "xgboost_model.fit(scaled_train, y_train,\n",
    "                 eval_set=[(scaled_train, y_train), (scaled_test, y_test)],\n",
    "                 verbose=True)\n",
    "\n",
    "#predict\n",
    "xgboost_prediction = xgboost_model.predict(scaled_test)"
   ]
  },
  {
   "cell_type": "markdown",
   "metadata": {},
   "source": [
    "Let us calculate the mean absolute error for the training."
   ]
  },
  {
   "cell_type": "code",
   "execution_count": 34,
   "metadata": {},
   "outputs": [
    {
     "name": "stdout",
     "output_type": "stream",
     "text": [
      "XG-Boost MAE: 392.1467982700893\n"
     ]
    }
   ],
   "source": [
    "print('XG-Boost MAE:', mean_absolute_error(xgboost_prediction, y_test))"
   ]
  },
  {
   "cell_type": "markdown",
   "metadata": {},
   "source": [
    "Creation and training of the feedforward neural network model."
   ]
  },
  {
   "cell_type": "code",
   "execution_count": 35,
   "metadata": {},
   "outputs": [
    {
     "name": "stdout",
     "output_type": "stream",
     "text": [
      "Epoch 1/220\n",
      "6/6 [==============================] - 0s 23ms/step - loss: 3521.5356 - val_loss: 5794.3550\n",
      "Epoch 2/220\n",
      "6/6 [==============================] - 0s 4ms/step - loss: 3521.4937 - val_loss: 5794.3428\n",
      "Epoch 3/220\n",
      "6/6 [==============================] - 0s 4ms/step - loss: 3521.4534 - val_loss: 5794.2993\n",
      "Epoch 4/220\n",
      "6/6 [==============================] - 0s 5ms/step - loss: 3521.4126 - val_loss: 5794.2466\n",
      "Epoch 5/220\n",
      "6/6 [==============================] - 0s 5ms/step - loss: 3521.3701 - val_loss: 5794.2085\n",
      "Epoch 6/220\n",
      "6/6 [==============================] - 0s 5ms/step - loss: 3521.3245 - val_loss: 5794.1616\n",
      "Epoch 7/220\n",
      "6/6 [==============================] - 0s 6ms/step - loss: 3521.2749 - val_loss: 5794.0615\n",
      "Epoch 8/220\n",
      "6/6 [==============================] - 0s 6ms/step - loss: 3521.2219 - val_loss: 5793.9805\n",
      "Epoch 9/220\n",
      "6/6 [==============================] - 0s 5ms/step - loss: 3521.1626 - val_loss: 5793.9243\n",
      "Epoch 10/220\n",
      "6/6 [==============================] - 0s 5ms/step - loss: 3521.0981 - val_loss: 5793.8828\n",
      "Epoch 11/220\n",
      "6/6 [==============================] - 0s 5ms/step - loss: 3521.0247 - val_loss: 5793.8052\n",
      "Epoch 12/220\n",
      "6/6 [==============================] - 0s 5ms/step - loss: 3520.9431 - val_loss: 5793.6758\n",
      "Epoch 13/220\n",
      "6/6 [==============================] - 0s 5ms/step - loss: 3520.8516 - val_loss: 5793.5425\n",
      "Epoch 14/220\n",
      "6/6 [==============================] - 0s 5ms/step - loss: 3520.7510 - val_loss: 5793.3862\n",
      "Epoch 15/220\n",
      "6/6 [==============================] - 0s 5ms/step - loss: 3520.6343 - val_loss: 5793.1919\n",
      "Epoch 16/220\n",
      "6/6 [==============================] - 0s 5ms/step - loss: 3520.5027 - val_loss: 5792.9297\n",
      "Epoch 17/220\n",
      "6/6 [==============================] - 0s 5ms/step - loss: 3520.3572 - val_loss: 5792.6006\n",
      "Epoch 18/220\n",
      "6/6 [==============================] - 0s 6ms/step - loss: 3520.1897 - val_loss: 5792.3687\n",
      "Epoch 19/220\n",
      "6/6 [==============================] - 0s 5ms/step - loss: 3520.0010 - val_loss: 5792.0171\n",
      "Epoch 20/220\n",
      "6/6 [==============================] - 0s 5ms/step - loss: 3519.7915 - val_loss: 5791.5259\n",
      "Epoch 21/220\n",
      "6/6 [==============================] - 0s 5ms/step - loss: 3519.5532 - val_loss: 5791.0127\n",
      "Epoch 22/220\n",
      "6/6 [==============================] - 0s 5ms/step - loss: 3519.2842 - val_loss: 5790.5029\n",
      "Epoch 23/220\n",
      "6/6 [==============================] - 0s 6ms/step - loss: 3518.9915 - val_loss: 5790.0303\n",
      "Epoch 24/220\n",
      "6/6 [==============================] - 0s 5ms/step - loss: 3518.6611 - val_loss: 5789.4341\n",
      "Epoch 25/220\n",
      "6/6 [==============================] - 0s 5ms/step - loss: 3518.3047 - val_loss: 5788.6548\n",
      "Epoch 26/220\n",
      "6/6 [==============================] - 0s 5ms/step - loss: 3517.8984 - val_loss: 5787.9531\n",
      "Epoch 27/220\n",
      "6/6 [==============================] - 0s 5ms/step - loss: 3517.4529 - val_loss: 5787.0615\n",
      "Epoch 28/220\n",
      "6/6 [==============================] - 0s 6ms/step - loss: 3516.9717 - val_loss: 5785.9893\n",
      "Epoch 29/220\n",
      "6/6 [==============================] - 0s 6ms/step - loss: 3516.4329 - val_loss: 5784.9648\n",
      "Epoch 30/220\n",
      "6/6 [==============================] - 0s 5ms/step - loss: 3515.8582 - val_loss: 5783.6616\n",
      "Epoch 31/220\n",
      "6/6 [==============================] - 0s 6ms/step - loss: 3515.2241 - val_loss: 5782.0791\n",
      "Epoch 32/220\n",
      "6/6 [==============================] - 0s 5ms/step - loss: 3514.5366 - val_loss: 5780.4253\n",
      "Epoch 33/220\n",
      "6/6 [==============================] - 0s 5ms/step - loss: 3513.7737 - val_loss: 5778.9663\n",
      "Epoch 34/220\n",
      "6/6 [==============================] - 0s 5ms/step - loss: 3512.9851 - val_loss: 5777.1328\n",
      "Epoch 35/220\n",
      "6/6 [==============================] - 0s 7ms/step - loss: 3512.1042 - val_loss: 5775.2188\n",
      "Epoch 36/220\n",
      "6/6 [==============================] - 0s 6ms/step - loss: 3511.1919 - val_loss: 5772.6123\n",
      "Epoch 37/220\n",
      "6/6 [==============================] - 0s 6ms/step - loss: 3510.2053 - val_loss: 5769.8872\n",
      "Epoch 38/220\n",
      "6/6 [==============================] - 0s 5ms/step - loss: 3509.0947 - val_loss: 5767.6226\n",
      "Epoch 39/220\n",
      "6/6 [==============================] - 0s 6ms/step - loss: 3507.9756 - val_loss: 5764.7915\n",
      "Epoch 40/220\n",
      "6/6 [==============================] - 0s 6ms/step - loss: 3506.7776 - val_loss: 5761.5469\n",
      "Epoch 41/220\n",
      "6/6 [==============================] - 0s 5ms/step - loss: 3505.4346 - val_loss: 5758.6392\n",
      "Epoch 42/220\n",
      "6/6 [==============================] - 0s 6ms/step - loss: 3504.0542 - val_loss: 5755.3853\n",
      "Epoch 43/220\n",
      "6/6 [==============================] - 0s 5ms/step - loss: 3502.6025 - val_loss: 5751.9258\n",
      "Epoch 44/220\n",
      "6/6 [==============================] - 0s 6ms/step - loss: 3501.0447 - val_loss: 5748.3271\n",
      "Epoch 45/220\n",
      "6/6 [==============================] - 0s 6ms/step - loss: 3499.4292 - val_loss: 5744.4224\n",
      "Epoch 46/220\n",
      "6/6 [==============================] - 0s 5ms/step - loss: 3497.6929 - val_loss: 5740.7544\n",
      "Epoch 47/220\n",
      "6/6 [==============================] - 0s 6ms/step - loss: 3495.8955 - val_loss: 5736.4580\n",
      "Epoch 48/220\n",
      "6/6 [==============================] - 0s 6ms/step - loss: 3494.0046 - val_loss: 5731.8560\n",
      "Epoch 49/220\n",
      "6/6 [==============================] - 0s 5ms/step - loss: 3492.0049 - val_loss: 5727.1665\n",
      "Epoch 50/220\n",
      "6/6 [==============================] - 0s 5ms/step - loss: 3489.8523 - val_loss: 5722.7778\n",
      "Epoch 51/220\n",
      "6/6 [==============================] - 0s 6ms/step - loss: 3487.6782 - val_loss: 5717.6406\n",
      "Epoch 52/220\n",
      "6/6 [==============================] - 0s 7ms/step - loss: 3485.3359 - val_loss: 5712.9556\n",
      "Epoch 53/220\n",
      "6/6 [==============================] - 0s 5ms/step - loss: 3482.9434 - val_loss: 5707.1787\n",
      "Epoch 54/220\n",
      "6/6 [==============================] - 0s 6ms/step - loss: 3480.4404 - val_loss: 5701.0225\n",
      "Epoch 55/220\n",
      "6/6 [==============================] - 0s 6ms/step - loss: 3477.7820 - val_loss: 5695.0156\n",
      "Epoch 56/220\n",
      "6/6 [==============================] - 0s 8ms/step - loss: 3474.9836 - val_loss: 5688.9492\n",
      "Epoch 57/220\n",
      "6/6 [==============================] - 0s 6ms/step - loss: 3472.0862 - val_loss: 5682.8599\n",
      "Epoch 58/220\n",
      "6/6 [==============================] - 0s 13ms/step - loss: 3469.1506 - val_loss: 5676.1982\n",
      "Epoch 59/220\n",
      "6/6 [==============================] - 0s 8ms/step - loss: 3466.0083 - val_loss: 5669.1396\n",
      "Epoch 60/220\n",
      "6/6 [==============================] - 0s 7ms/step - loss: 3462.7725 - val_loss: 5662.8765\n",
      "Epoch 61/220\n",
      "6/6 [==============================] - 0s 10ms/step - loss: 3459.4727 - val_loss: 5654.6494\n",
      "Epoch 62/220\n",
      "6/6 [==============================] - 0s 7ms/step - loss: 3455.9656 - val_loss: 5646.4800\n",
      "Epoch 63/220\n",
      "6/6 [==============================] - 0s 9ms/step - loss: 3452.3440 - val_loss: 5638.3882\n",
      "Epoch 64/220\n",
      "6/6 [==============================] - 0s 6ms/step - loss: 3448.6243 - val_loss: 5629.5776\n",
      "Epoch 65/220\n",
      "6/6 [==============================] - 0s 10ms/step - loss: 3444.6831 - val_loss: 5621.9321\n",
      "Epoch 66/220\n",
      "6/6 [==============================] - 0s 14ms/step - loss: 3440.6921 - val_loss: 5612.8169\n",
      "Epoch 67/220\n",
      "6/6 [==============================] - 0s 8ms/step - loss: 3436.6465 - val_loss: 5601.9688\n",
      "Epoch 68/220\n",
      "6/6 [==============================] - 0s 8ms/step - loss: 3432.2603 - val_loss: 5592.7144\n",
      "Epoch 69/220\n",
      "6/6 [==============================] - 0s 13ms/step - loss: 3427.8596 - val_loss: 5582.1099\n",
      "Epoch 70/220\n",
      "6/6 [==============================] - 0s 10ms/step - loss: 3423.3137 - val_loss: 5570.9907\n",
      "Epoch 71/220\n",
      "6/6 [==============================] - 0s 7ms/step - loss: 3418.6082 - val_loss: 5558.7681\n",
      "Epoch 72/220\n",
      "6/6 [==============================] - 0s 11ms/step - loss: 3413.8289 - val_loss: 5545.9775\n",
      "Epoch 73/220\n",
      "6/6 [==============================] - 0s 13ms/step - loss: 3408.8228 - val_loss: 5533.8394\n",
      "Epoch 74/220\n",
      "6/6 [==============================] - 0s 8ms/step - loss: 3403.5366 - val_loss: 5523.3677\n",
      "Epoch 75/220\n",
      "6/6 [==============================] - 0s 8ms/step - loss: 3398.3430 - val_loss: 5510.0132\n",
      "Epoch 76/220\n",
      "6/6 [==============================] - 0s 7ms/step - loss: 3393.0527 - val_loss: 5494.5981\n",
      "Epoch 77/220\n",
      "6/6 [==============================] - 0s 5ms/step - loss: 3387.3000 - val_loss: 5480.7983\n",
      "Epoch 78/220\n",
      "6/6 [==============================] - 0s 9ms/step - loss: 3381.6099 - val_loss: 5466.3057\n",
      "Epoch 79/220\n",
      "6/6 [==============================] - 0s 8ms/step - loss: 3375.7283 - val_loss: 5451.0483\n",
      "Epoch 80/220\n",
      "6/6 [==============================] - 0s 7ms/step - loss: 3369.7285 - val_loss: 5436.3599\n",
      "Epoch 81/220\n",
      "6/6 [==============================] - 0s 8ms/step - loss: 3363.6895 - val_loss: 5418.6763\n",
      "Epoch 82/220\n",
      "6/6 [==============================] - 0s 8ms/step - loss: 3357.1707 - val_loss: 5402.0283\n",
      "Epoch 83/220\n",
      "6/6 [==============================] - 0s 13ms/step - loss: 3350.7673 - val_loss: 5383.5391\n",
      "Epoch 84/220\n",
      "6/6 [==============================] - 0s 6ms/step - loss: 3343.9604 - val_loss: 5365.6953\n",
      "Epoch 85/220\n",
      "6/6 [==============================] - 0s 12ms/step - loss: 3337.2463 - val_loss: 5346.8687\n",
      "Epoch 86/220\n",
      "6/6 [==============================] - 0s 10ms/step - loss: 3330.1143 - val_loss: 5328.0376\n",
      "Epoch 87/220\n",
      "6/6 [==============================] - 0s 9ms/step - loss: 3322.9109 - val_loss: 5309.3452\n",
      "Epoch 88/220\n",
      "6/6 [==============================] - 0s 9ms/step - loss: 3315.4573 - val_loss: 5289.6182\n",
      "Epoch 89/220\n",
      "6/6 [==============================] - 0s 14ms/step - loss: 3308.1670 - val_loss: 5267.3862\n",
      "Epoch 90/220\n",
      "6/6 [==============================] - 0s 9ms/step - loss: 3300.0642 - val_loss: 5248.4854\n",
      "Epoch 91/220\n",
      "6/6 [==============================] - 0s 6ms/step - loss: 3292.5139 - val_loss: 5224.9717\n",
      "Epoch 92/220\n",
      "6/6 [==============================] - 0s 8ms/step - loss: 3284.3325 - val_loss: 5201.7075\n",
      "Epoch 93/220\n",
      "6/6 [==============================] - 0s 7ms/step - loss: 3275.9861 - val_loss: 5179.9741\n",
      "Epoch 94/220\n",
      "6/6 [==============================] - 0s 12ms/step - loss: 3267.4204 - val_loss: 5158.6924\n",
      "Epoch 95/220\n",
      "6/6 [==============================] - 0s 9ms/step - loss: 3258.7114 - val_loss: 5135.6899\n",
      "Epoch 96/220\n",
      "6/6 [==============================] - 0s 6ms/step - loss: 3249.7544 - val_loss: 5113.1787\n",
      "Epoch 97/220\n",
      "6/6 [==============================] - 0s 6ms/step - loss: 3240.8809 - val_loss: 5088.4180\n",
      "Epoch 98/220\n",
      "6/6 [==============================] - 0s 7ms/step - loss: 3231.5349 - val_loss: 5063.8350\n",
      "Epoch 99/220\n",
      "6/6 [==============================] - 0s 9ms/step - loss: 3222.2307 - val_loss: 5037.0347\n",
      "Epoch 100/220\n",
      "6/6 [==============================] - 0s 12ms/step - loss: 3212.7048 - val_loss: 5009.7803\n",
      "Epoch 101/220\n",
      "6/6 [==============================] - 0s 9ms/step - loss: 3202.7844 - val_loss: 4985.4819\n",
      "Epoch 102/220\n",
      "6/6 [==============================] - 0s 8ms/step - loss: 3192.8989 - val_loss: 4960.0547\n",
      "Epoch 103/220\n",
      "6/6 [==============================] - 0s 8ms/step - loss: 3182.5193 - val_loss: 4936.8931\n",
      "Epoch 104/220\n",
      "6/6 [==============================] - 0s 7ms/step - loss: 3172.2300 - val_loss: 4910.7163\n",
      "Epoch 105/220\n",
      "6/6 [==============================] - 0s 6ms/step - loss: 3161.7764 - val_loss: 4882.6011\n",
      "Epoch 106/220\n",
      "6/6 [==============================] - 0s 7ms/step - loss: 3150.9783 - val_loss: 4853.8994\n",
      "Epoch 107/220\n",
      "6/6 [==============================] - 0s 7ms/step - loss: 3139.8843 - val_loss: 4824.3618\n",
      "Epoch 108/220\n",
      "6/6 [==============================] - 0s 8ms/step - loss: 3128.6770 - val_loss: 4795.3735\n",
      "Epoch 109/220\n",
      "6/6 [==============================] - 0s 7ms/step - loss: 3117.2976 - val_loss: 4767.9292\n",
      "Epoch 110/220\n",
      "6/6 [==============================] - 0s 6ms/step - loss: 3105.4756 - val_loss: 4741.6758\n",
      "Epoch 111/220\n",
      "6/6 [==============================] - 0s 5ms/step - loss: 3093.7869 - val_loss: 4712.1753\n",
      "Epoch 112/220\n",
      "6/6 [==============================] - 0s 6ms/step - loss: 3082.1741 - val_loss: 4678.2993\n",
      "Epoch 113/220\n",
      "6/6 [==============================] - 0s 6ms/step - loss: 3069.6763 - val_loss: 4645.6133\n",
      "Epoch 114/220\n",
      "6/6 [==============================] - 0s 6ms/step - loss: 3057.1357 - val_loss: 4614.5425\n",
      "Epoch 115/220\n",
      "6/6 [==============================] - 0s 8ms/step - loss: 3044.7178 - val_loss: 4580.6729\n",
      "Epoch 116/220\n",
      "6/6 [==============================] - 0s 6ms/step - loss: 3031.8245 - val_loss: 4546.8013\n",
      "Epoch 117/220\n",
      "6/6 [==============================] - 0s 5ms/step - loss: 3018.3398 - val_loss: 4517.5264\n",
      "Epoch 118/220\n",
      "6/6 [==============================] - 0s 6ms/step - loss: 3005.5398 - val_loss: 4478.7466\n",
      "Epoch 119/220\n",
      "6/6 [==============================] - 0s 5ms/step - loss: 2991.6165 - val_loss: 4446.5679\n",
      "Epoch 120/220\n",
      "6/6 [==============================] - 0s 6ms/step - loss: 2978.0671 - val_loss: 4411.7109\n",
      "Epoch 121/220\n",
      "6/6 [==============================] - 0s 7ms/step - loss: 2964.2769 - val_loss: 4371.7144\n",
      "Epoch 122/220\n",
      "6/6 [==============================] - 0s 12ms/step - loss: 2949.9478 - val_loss: 4334.0801\n",
      "Epoch 123/220\n",
      "6/6 [==============================] - 0s 11ms/step - loss: 2936.0361 - val_loss: 4293.1040\n",
      "Epoch 124/220\n",
      "6/6 [==============================] - 0s 6ms/step - loss: 2921.0198 - val_loss: 4258.0151\n",
      "Epoch 125/220\n",
      "6/6 [==============================] - 0s 7ms/step - loss: 2906.2473 - val_loss: 4219.8467\n",
      "Epoch 126/220\n",
      "6/6 [==============================] - 0s 6ms/step - loss: 2891.0181 - val_loss: 4180.9106\n",
      "Epoch 127/220\n",
      "6/6 [==============================] - 0s 6ms/step - loss: 2876.0369 - val_loss: 4137.2334\n",
      "Epoch 128/220\n",
      "6/6 [==============================] - 0s 6ms/step - loss: 2860.5518 - val_loss: 4094.1763\n",
      "Epoch 129/220\n",
      "6/6 [==============================] - 0s 7ms/step - loss: 2845.1016 - val_loss: 4046.9375\n",
      "Epoch 130/220\n",
      "6/6 [==============================] - 0s 5ms/step - loss: 2828.9392 - val_loss: 4003.6152\n",
      "Epoch 131/220\n",
      "6/6 [==============================] - 0s 5ms/step - loss: 2812.5566 - val_loss: 3963.9153\n",
      "Epoch 132/220\n",
      "6/6 [==============================] - 0s 6ms/step - loss: 2795.9014 - val_loss: 3925.5100\n",
      "Epoch 133/220\n",
      "6/6 [==============================] - 0s 11ms/step - loss: 2779.6196 - val_loss: 3882.5171\n",
      "Epoch 134/220\n",
      "6/6 [==============================] - 0s 10ms/step - loss: 2762.7507 - val_loss: 3837.4949\n",
      "Epoch 135/220\n",
      "6/6 [==============================] - 0s 11ms/step - loss: 2745.6733 - val_loss: 3791.1602\n",
      "Epoch 136/220\n",
      "6/6 [==============================] - 0s 8ms/step - loss: 2727.9438 - val_loss: 3747.4226\n",
      "Epoch 137/220\n",
      "6/6 [==============================] - 0s 9ms/step - loss: 2710.5872 - val_loss: 3697.5864\n",
      "Epoch 138/220\n",
      "6/6 [==============================] - 0s 7ms/step - loss: 2693.2593 - val_loss: 3645.8674\n",
      "Epoch 139/220\n",
      "6/6 [==============================] - 0s 10ms/step - loss: 2676.0054 - val_loss: 3590.3042\n",
      "Epoch 140/220\n",
      "6/6 [==============================] - 0s 15ms/step - loss: 2657.4407 - val_loss: 3541.2192\n",
      "Epoch 141/220\n",
      "6/6 [==============================] - 0s 9ms/step - loss: 2639.9043 - val_loss: 3487.6721\n",
      "Epoch 142/220\n",
      "6/6 [==============================] - 0s 6ms/step - loss: 2620.9099 - val_loss: 3445.4790\n",
      "Epoch 143/220\n",
      "6/6 [==============================] - 0s 13ms/step - loss: 2602.7805 - val_loss: 3395.2026\n",
      "Epoch 144/220\n",
      "6/6 [==============================] - 0s 9ms/step - loss: 2583.4646 - val_loss: 3351.1206\n",
      "Epoch 145/220\n",
      "6/6 [==============================] - 0s 10ms/step - loss: 2564.9272 - val_loss: 3299.4927\n",
      "Epoch 146/220\n",
      "6/6 [==============================] - 0s 8ms/step - loss: 2545.7947 - val_loss: 3241.3611\n",
      "Epoch 147/220\n",
      "6/6 [==============================] - 0s 8ms/step - loss: 2526.2236 - val_loss: 3184.9871\n",
      "Epoch 148/220\n",
      "6/6 [==============================] - 0s 7ms/step - loss: 2507.7327 - val_loss: 3120.0891\n",
      "Epoch 149/220\n",
      "6/6 [==============================] - 0s 7ms/step - loss: 2486.3601 - val_loss: 3070.6743\n",
      "Epoch 150/220\n",
      "6/6 [==============================] - 0s 7ms/step - loss: 2466.0447 - val_loss: 3019.2117\n",
      "Epoch 151/220\n",
      "6/6 [==============================] - 0s 7ms/step - loss: 2445.7471 - val_loss: 2964.3811\n",
      "Epoch 152/220\n",
      "6/6 [==============================] - 0s 7ms/step - loss: 2425.5493 - val_loss: 2897.8755\n",
      "Epoch 153/220\n",
      "6/6 [==============================] - 0s 6ms/step - loss: 2404.3831 - val_loss: 2839.1548\n",
      "Epoch 154/220\n",
      "6/6 [==============================] - 0s 8ms/step - loss: 2383.0996 - val_loss: 2784.9241\n",
      "Epoch 155/220\n",
      "6/6 [==============================] - 0s 9ms/step - loss: 2361.6365 - val_loss: 2733.5161\n",
      "Epoch 156/220\n",
      "6/6 [==============================] - 0s 13ms/step - loss: 2340.4700 - val_loss: 2666.8835\n",
      "Epoch 157/220\n",
      "6/6 [==============================] - 0s 9ms/step - loss: 2317.6226 - val_loss: 2604.1150\n",
      "Epoch 158/220\n",
      "6/6 [==============================] - 0s 9ms/step - loss: 2295.5415 - val_loss: 2541.9243\n",
      "Epoch 159/220\n",
      "6/6 [==============================] - 0s 7ms/step - loss: 2273.4167 - val_loss: 2475.8928\n",
      "Epoch 160/220\n",
      "6/6 [==============================] - 0s 7ms/step - loss: 2250.5217 - val_loss: 2418.9807\n",
      "Epoch 161/220\n",
      "6/6 [==============================] - 0s 5ms/step - loss: 2228.7292 - val_loss: 2347.4861\n",
      "Epoch 162/220\n",
      "6/6 [==============================] - 0s 10ms/step - loss: 2204.0356 - val_loss: 2290.1294\n",
      "Epoch 163/220\n",
      "6/6 [==============================] - 0s 9ms/step - loss: 2181.0674 - val_loss: 2226.2751\n",
      "Epoch 164/220\n",
      "6/6 [==============================] - 0s 9ms/step - loss: 2156.8403 - val_loss: 2162.6169\n",
      "Epoch 165/220\n",
      "6/6 [==============================] - 0s 4ms/step - loss: 2132.8252 - val_loss: 2094.8032\n",
      "Epoch 166/220\n",
      "6/6 [==============================] - 0s 11ms/step - loss: 2108.6284 - val_loss: 2024.0277\n",
      "Epoch 167/220\n",
      "6/6 [==============================] - 0s 7ms/step - loss: 2084.9590 - val_loss: 1948.0105\n",
      "Epoch 168/220\n",
      "6/6 [==============================] - 0s 6ms/step - loss: 2061.0867 - val_loss: 1879.1957\n",
      "Epoch 169/220\n",
      "6/6 [==============================] - 0s 15ms/step - loss: 2035.8330 - val_loss: 1820.3850\n",
      "Epoch 170/220\n",
      "6/6 [==============================] - 0s 12ms/step - loss: 2011.5283 - val_loss: 1761.5691\n",
      "Epoch 171/220\n",
      "6/6 [==============================] - 0s 11ms/step - loss: 1988.5048 - val_loss: 1685.2428\n",
      "Epoch 172/220\n",
      "6/6 [==============================] - 0s 12ms/step - loss: 1963.5553 - val_loss: 1620.7802\n",
      "Epoch 173/220\n",
      "6/6 [==============================] - 0s 13ms/step - loss: 1939.4547 - val_loss: 1556.4319\n",
      "Epoch 174/220\n",
      "6/6 [==============================] - 0s 11ms/step - loss: 1915.9683 - val_loss: 1482.7042\n",
      "Epoch 175/220\n",
      "6/6 [==============================] - 0s 8ms/step - loss: 1892.5474 - val_loss: 1414.6166\n",
      "Epoch 176/220\n",
      "6/6 [==============================] - 0s 8ms/step - loss: 1869.1902 - val_loss: 1365.4348\n",
      "Epoch 177/220\n",
      "6/6 [==============================] - 0s 10ms/step - loss: 1846.9790 - val_loss: 1323.5194\n",
      "Epoch 178/220\n",
      "6/6 [==============================] - 0s 15ms/step - loss: 1827.3901 - val_loss: 1294.6716\n",
      "Epoch 179/220\n",
      "6/6 [==============================] - 0s 10ms/step - loss: 1807.5364 - val_loss: 1272.2610\n",
      "Epoch 180/220\n",
      "6/6 [==============================] - 0s 8ms/step - loss: 1788.8406 - val_loss: 1243.0577\n",
      "Epoch 181/220\n",
      "6/6 [==============================] - 0s 9ms/step - loss: 1770.4242 - val_loss: 1215.2646\n",
      "Epoch 182/220\n",
      "6/6 [==============================] - 0s 7ms/step - loss: 1754.1221 - val_loss: 1175.8619\n",
      "Epoch 183/220\n",
      "6/6 [==============================] - 0s 10ms/step - loss: 1732.7058 - val_loss: 1153.3547\n",
      "Epoch 184/220\n",
      "6/6 [==============================] - 0s 9ms/step - loss: 1714.5038 - val_loss: 1127.6852\n",
      "Epoch 185/220\n",
      "6/6 [==============================] - 0s 8ms/step - loss: 1696.8035 - val_loss: 1102.3572\n",
      "Epoch 186/220\n",
      "6/6 [==============================] - 0s 8ms/step - loss: 1678.2906 - val_loss: 1077.9324\n",
      "Epoch 187/220\n",
      "6/6 [==============================] - 0s 6ms/step - loss: 1660.0835 - val_loss: 1051.1272\n",
      "Epoch 188/220\n",
      "6/6 [==============================] - 0s 6ms/step - loss: 1642.0482 - val_loss: 1025.7112\n",
      "Epoch 189/220\n",
      "6/6 [==============================] - 0s 5ms/step - loss: 1624.6278 - val_loss: 997.1494\n",
      "Epoch 190/220\n",
      "6/6 [==============================] - 0s 8ms/step - loss: 1605.6824 - val_loss: 967.1429\n",
      "Epoch 191/220\n",
      "6/6 [==============================] - 0s 7ms/step - loss: 1587.9740 - val_loss: 941.2299\n",
      "Epoch 192/220\n",
      "6/6 [==============================] - 0s 5ms/step - loss: 1571.2227 - val_loss: 919.4003\n",
      "Epoch 193/220\n",
      "6/6 [==============================] - 0s 6ms/step - loss: 1556.4550 - val_loss: 897.2048\n",
      "Epoch 194/220\n",
      "6/6 [==============================] - 0s 7ms/step - loss: 1540.9010 - val_loss: 878.2744\n",
      "Epoch 195/220\n",
      "6/6 [==============================] - 0s 5ms/step - loss: 1526.8081 - val_loss: 865.2749\n",
      "Epoch 196/220\n",
      "6/6 [==============================] - 0s 6ms/step - loss: 1512.5095 - val_loss: 855.9870\n",
      "Epoch 197/220\n",
      "6/6 [==============================] - 0s 8ms/step - loss: 1500.3152 - val_loss: 843.1337\n",
      "Epoch 198/220\n",
      "6/6 [==============================] - 0s 11ms/step - loss: 1486.2991 - val_loss: 834.6031\n",
      "Epoch 199/220\n",
      "6/6 [==============================] - 0s 6ms/step - loss: 1474.6823 - val_loss: 822.9417\n",
      "Epoch 200/220\n",
      "6/6 [==============================] - 0s 6ms/step - loss: 1459.8003 - val_loss: 812.1573\n",
      "Epoch 201/220\n",
      "6/6 [==============================] - 0s 5ms/step - loss: 1448.1633 - val_loss: 799.6006\n",
      "Epoch 202/220\n",
      "6/6 [==============================] - 0s 5ms/step - loss: 1435.8777 - val_loss: 786.4341\n",
      "Epoch 203/220\n",
      "6/6 [==============================] - 0s 7ms/step - loss: 1423.8464 - val_loss: 775.9832\n",
      "Epoch 204/220\n",
      "6/6 [==============================] - 0s 5ms/step - loss: 1411.2855 - val_loss: 768.6651\n",
      "Epoch 205/220\n",
      "6/6 [==============================] - 0s 7ms/step - loss: 1399.3529 - val_loss: 762.5908\n",
      "Epoch 206/220\n",
      "6/6 [==============================] - 0s 10ms/step - loss: 1387.7440 - val_loss: 755.0360\n",
      "Epoch 207/220\n",
      "6/6 [==============================] - 0s 10ms/step - loss: 1375.4739 - val_loss: 749.4902\n",
      "Epoch 208/220\n",
      "6/6 [==============================] - 0s 6ms/step - loss: 1364.5571 - val_loss: 743.5357\n",
      "Epoch 209/220\n",
      "6/6 [==============================] - 0s 9ms/step - loss: 1353.5798 - val_loss: 738.4439\n",
      "Epoch 210/220\n",
      "6/6 [==============================] - 0s 9ms/step - loss: 1343.9677 - val_loss: 733.4637\n",
      "Epoch 211/220\n",
      "6/6 [==============================] - 0s 16ms/step - loss: 1334.8053 - val_loss: 732.1623\n",
      "Epoch 212/220\n",
      "6/6 [==============================] - 0s 9ms/step - loss: 1326.8691 - val_loss: 727.7613\n",
      "Epoch 213/220\n",
      "6/6 [==============================] - 0s 5ms/step - loss: 1320.6080 - val_loss: 723.4576\n",
      "Epoch 214/220\n",
      "6/6 [==============================] - 0s 5ms/step - loss: 1314.6516 - val_loss: 722.0278\n",
      "Epoch 215/220\n",
      "6/6 [==============================] - 0s 6ms/step - loss: 1307.8625 - val_loss: 721.0459\n",
      "Epoch 216/220\n",
      "6/6 [==============================] - 0s 6ms/step - loss: 1302.2856 - val_loss: 722.8036\n",
      "Epoch 217/220\n",
      "6/6 [==============================] - 0s 5ms/step - loss: 1296.0138 - val_loss: 724.8793\n",
      "Epoch 218/220\n",
      "6/6 [==============================] - 0s 5ms/step - loss: 1290.4817 - val_loss: 724.5560\n",
      "Epoch 219/220\n",
      "6/6 [==============================] - 0s 5ms/step - loss: 1286.0392 - val_loss: 724.7221\n",
      "Epoch 220/220\n",
      "6/6 [==============================] - 0s 6ms/step - loss: 1282.2653 - val_loss: 727.9784\n"
     ]
    }
   ],
   "source": [
    "#neural architect\n",
    "nn_model = Sequential()\n",
    "nn_model.add(Dense(20, input_shape=(scaled_train.shape[1],)))\n",
    "nn_model.add(Dense(10))\n",
    "nn_model.add(Dense(1))\n",
    "\n",
    "#compile\n",
    "nn_model.compile(loss='mean_absolute_error',\n",
    "                optimizer=Adam(lr=0.001))\n",
    "\n",
    "#fit\n",
    "nn_model.fit(scaled_train, y_train,\n",
    "            validation_data=(scaled_test, y_test),\n",
    "            epochs=220,\n",
    "            verbose=1)\n",
    "\n",
    "#predict\n",
    "nn_prediction = nn_model.predict(scaled_test)"
   ]
  },
  {
   "cell_type": "markdown",
   "metadata": {},
   "source": [
    "Let's compare the MAE values."
   ]
  },
  {
   "cell_type": "code",
   "execution_count": 41,
   "metadata": {},
   "outputs": [
    {
     "name": "stdout",
     "output_type": "stream",
     "text": [
      "XG-Boost MAE: 392.1467982700893\n",
      "Prophet MAE: 572.5555342749124\n",
      "SARIMAX MAE: 650.6157483614192\n",
      "Neural Net MAE: 727.9783761160714\n"
     ]
    }
   ],
   "source": [
    "print('XG-Boost MAE:', mean_absolute_error(xgboost_prediction, y_test))\n",
    "print('Prophet MAE:', mean_absolute_error(prophet_future, test))\n",
    "print('SARIMAX MAE:', mean_absolute_error(sarimax_prediction, test))\n",
    "print('Neural Net MAE:', mean_absolute_error(nn_prediction, test))"
   ]
  },
  {
   "cell_type": "markdown",
   "metadata": {},
   "source": [
    "Finally let us visualize the predictions of all 4 models. Note the autofmt_xdate method in matplotlib, it knows how to appropriately rotate the date labels on the x-axis."
   ]
  },
  {
   "cell_type": "code",
   "execution_count": 46,
   "metadata": {},
   "outputs": [
    {
     "data": {
      "text/plain": [
       "<Figure size 2160x2160 with 0 Axes>"
      ]
     },
     "metadata": {},
     "output_type": "display_data"
    },
    {
     "data": {
      "image/png": "[encoded data removed]",
      "text/plain": [
       "<Figure size 432x288 with 4 Axes>"
      ]
     },
     "metadata": {
      "needs_background": "light"
     },
     "output_type": "display_data"
    }
   ],
   "source": [
    "xgboost_df = pd.DataFrame({'y': xgboost_prediction.tolist()})\n",
    "xgboost_df.index = y_test.index\n",
    "\n",
    "nn_df = pd.DataFrame(nn_prediction)\n",
    "nn_df.index = y_test.index\n",
    "plt.figure(figsize=(30, 30))\n",
    "fig, axs = plt.subplots(2, 2)\n",
    "fig.suptitle('Compare SARIMAX, Prophet, XGBOOST and NN')\n",
    "axs[0, 0].plot(dataset.tail(50))\n",
    "axs[0, 0].plot(sarimax_prediction.tail(50))\n",
    "axs[0, 0].set_title(\"SARIMAX\")\n",
    "axs[0, 1].plot(dataset.tail(50))\n",
    "axs[0, 1].plot(prophet_future.tail(50))\n",
    "axs[0, 1].set_title(\"Prophet\")\n",
    "axs[1, 0].plot(dataset.tail(50))\n",
    "axs[1, 0].plot(xgboost_df.tail(50))\n",
    "axs[1, 0].set_title(\"XGBOOST\")\n",
    "axs[1, 1].plot(dataset.tail(50))\n",
    "axs[1, 1].plot(nn_df.tail(50))\n",
    "axs[1, 1].set_title(\"NN\")\n",
    "\n",
    "for ax in fig.get_axes():\n",
    "    ax.label_outer()\n",
    "fig.autofmt_xdate()\n",
    "\n",
    "plt.savefig('Comparison',\n",
    "            bbox_inches='tight', transparent=False)"
   ]
  },
  {
   "cell_type": "code",
   "execution_count": null,
   "metadata": {},
   "outputs": [],
   "source": []
  }
 ],
 "metadata": {
  "kernelspec": {
   "display_name": "Python 3",
   "language": "python",
   "name": "python3"
  },
  "language_info": {
   "codemirror_mode": {
    "name": "ipython",
    "version": 3
   },
   "file_extension": ".py",
   "mimetype": "text/x-python",
   "name": "python",
   "nbconvert_exporter": "python",
   "pygments_lexer": "ipython3",
   "version": "3.6.9"
  }
 },
 "nbformat": 4,
 "nbformat_minor": 4
}
